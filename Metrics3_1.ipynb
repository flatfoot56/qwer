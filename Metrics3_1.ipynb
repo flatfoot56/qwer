{
 "cells": [
  {
   "cell_type": "code",
   "execution_count": 3,
   "metadata": {},
   "outputs": [],
   "source": [
    "import numpy as np"
   ]
  },
  {
   "cell_type": "code",
   "execution_count": 93,
   "metadata": {},
   "outputs": [],
   "source": [
    "n = 100\n",
    "k = 3\n",
    "np.set_printoptions(precision=3)"
   ]
  },
  {
   "cell_type": "markdown",
   "metadata": {},
   "source": [
    "1)"
   ]
  },
  {
   "cell_type": "code",
   "execution_count": 94,
   "metadata": {},
   "outputs": [],
   "source": [
    "X = np.random.normal(0, 1, (n, k))"
   ]
  },
  {
   "cell_type": "code",
   "execution_count": 95,
   "metadata": {},
   "outputs": [
    {
     "data": {
      "text/plain": [
       "array([[ 96.947,  27.802,  -6.43 ],\n",
       "       [ 27.802, 110.156,  -4.317],\n",
       "       [ -6.43 ,  -4.317,  92.799]])"
      ]
     },
     "execution_count": 95,
     "metadata": {},
     "output_type": "execute_result"
    }
   ],
   "source": [
    "np.dot(X.transpose(), X)"
   ]
  },
  {
   "cell_type": "markdown",
   "metadata": {},
   "source": [
    "2)"
   ]
  },
  {
   "cell_type": "code",
   "execution_count": 96,
   "metadata": {},
   "outputs": [],
   "source": [
    "def matrix_sum(X, Y):\n",
    "    s = np.zeros((len(X), len(X[1])))\n",
    "    for i in range(len(X)): \n",
    "        for j in range(len(X[0])): \n",
    "            s[i][j] = X[i][j] + Y[i][j]\n",
    "    return s"
   ]
  },
  {
   "cell_type": "code",
   "execution_count": 97,
   "metadata": {},
   "outputs": [],
   "source": [
    "t = np.zeros((k, k))\n",
    "for i in range(n):\n",
    "    t = matrix_sum(t, np.dot(np.array([X[i]]).transpose(), np.array([X[i]])))"
   ]
  },
  {
   "cell_type": "code",
   "execution_count": 98,
   "metadata": {},
   "outputs": [
    {
     "data": {
      "text/plain": [
       "array([[ 96.947,  27.802,  -6.43 ],\n",
       "       [ 27.802, 110.156,  -4.317],\n",
       "       [ -6.43 ,  -4.317,  92.799]])"
      ]
     },
     "execution_count": 98,
     "metadata": {},
     "output_type": "execute_result"
    }
   ],
   "source": [
    "t"
   ]
  },
  {
   "cell_type": "markdown",
   "metadata": {},
   "source": [
    "t coincides with $X^TX$"
   ]
  },
  {
   "cell_type": "markdown",
   "metadata": {},
   "source": [
    "3)"
   ]
  },
  {
   "cell_type": "code",
   "execution_count": 99,
   "metadata": {},
   "outputs": [
    {
     "data": {
      "text/plain": [
       "array([[ 0.964,  0.29 , -0.059],\n",
       "       [ 0.29 ,  1.107, -0.047],\n",
       "       [-0.059, -0.047,  0.935]])"
      ]
     },
     "execution_count": 99,
     "metadata": {},
     "output_type": "execute_result"
    }
   ],
   "source": [
    "np.cov(X.transpose())"
   ]
  },
  {
   "cell_type": "code",
   "execution_count": 100,
   "metadata": {},
   "outputs": [
    {
     "data": {
      "text/plain": [
       "array([ 0.123, -0.073, -0.051])"
      ]
     },
     "execution_count": 100,
     "metadata": {},
     "output_type": "execute_result"
    }
   ],
   "source": [
    "np.mean(X, axis=0)"
   ]
  },
  {
   "cell_type": "markdown",
   "metadata": {},
   "source": [
    "Populational mean and covariance matrix are:\n",
    "$$\\mu = \\begin{pmatrix}\n",
    "0\\\\0\\\\0\\end{pmatrix}, \\Sigma = \\begin{pmatrix}\n",
    "1 & 0 & 0\\\\0&1&0\\\\0&0&1\\end{pmatrix}$$ as we can see the sample mean and covariance matrix substantially differ from the populational"
   ]
  },
  {
   "cell_type": "markdown",
   "metadata": {},
   "source": [
    "4)"
   ]
  },
  {
   "cell_type": "markdown",
   "metadata": {},
   "source": [
    "It is known that $rg(X^TX) = rg(X)$ which is equal to 3 unless the columns of the matrix $X$ are linearly dependent.\n",
    "Since $x \\sim N(0, I)$ then $\\mathbb{E}[xx^T] = I$ whihch means that $rg \\mathbb{E}[xx^T] = 3$.\n",
    "$rg[x_ix_i^T] = rg[x_i] = 1$."
   ]
  },
  {
   "cell_type": "code",
   "execution_count": 101,
   "metadata": {},
   "outputs": [
    {
     "data": {
      "text/plain": [
       "array([[ 1.116, -0.279,  0.064],\n",
       "       [-0.279,  0.979,  0.026],\n",
       "       [ 0.064,  0.026,  1.083]])"
      ]
     },
     "execution_count": 101,
     "metadata": {},
     "output_type": "execute_result"
    }
   ],
   "source": [
    "n*np.linalg.inv(np.dot(X.transpose(), X))"
   ]
  },
  {
   "cell_type": "markdown",
   "metadata": {},
   "source": [
    "$\\mathbb{E}[xx^T]^-1 = I$"
   ]
  },
  {
   "cell_type": "markdown",
   "metadata": {},
   "source": [
    "5)"
   ]
  },
  {
   "cell_type": "code",
   "execution_count": 106,
   "metadata": {},
   "outputs": [],
   "source": [
    "w = np.random.randint(1, 10, size=100)\n",
    "omega = np.diag(w)"
   ]
  },
  {
   "cell_type": "markdown",
   "metadata": {},
   "source": [
    "$X^T\\Omega X$:"
   ]
  },
  {
   "cell_type": "code",
   "execution_count": 108,
   "metadata": {},
   "outputs": [
    {
     "data": {
      "text/plain": [
       "array([[481.146, 128.201, -23.792],\n",
       "       [128.201, 526.26 , -61.937],\n",
       "       [-23.792, -61.937, 501.043]])"
      ]
     },
     "execution_count": 108,
     "metadata": {},
     "output_type": "execute_result"
    }
   ],
   "source": [
    "np.dot(np.dot(X.transpose(), omega), X)"
   ]
  },
  {
   "cell_type": "markdown",
   "metadata": {},
   "source": [
    "$\\sum_{i=1}^{n} \\omega_i x_i x_i^T$:"
   ]
  },
  {
   "cell_type": "code",
   "execution_count": 109,
   "metadata": {},
   "outputs": [
    {
     "data": {
      "text/plain": [
       "array([[481.146, 128.201, -23.792],\n",
       "       [128.201, 526.26 , -61.937],\n",
       "       [-23.792, -61.937, 501.043]])"
      ]
     },
     "execution_count": 109,
     "metadata": {},
     "output_type": "execute_result"
    }
   ],
   "source": [
    "t = np.zeros((k, k))\n",
    "for i in range(n):\n",
    "    t = matrix_sum(t, w[i]*np.dot(np.array([X[i]]).transpose(), np.array([X[i]])))\n",
    "t"
   ]
  }
 ],
 "metadata": {
  "kernelspec": {
   "display_name": "Python 3",
   "language": "python",
   "name": "python3"
  },
  "language_info": {
   "codemirror_mode": {
    "name": "ipython",
    "version": 3
   },
   "file_extension": ".py",
   "mimetype": "text/x-python",
   "name": "python",
   "nbconvert_exporter": "python",
   "pygments_lexer": "ipython3",
   "version": "3.7.0"
  }
 },
 "nbformat": 4,
 "nbformat_minor": 2
}
