{
 "cells": [
  {
   "cell_type": "code",
   "execution_count": 2,
   "metadata": {},
   "outputs": [],
   "source": [
    "import matplotlib.pyplot as plt\n",
    "%matplotlib inline"
   ]
  },
  {
   "cell_type": "code",
   "execution_count": 3,
   "metadata": {},
   "outputs": [],
   "source": [
    "k_1 = 0.1\n",
    "k_steady = 1\n",
    "T = 220\n",
    "delta = 0.02\n",
    "beta = 0.96"
   ]
  },
  {
   "cell_type": "code",
   "execution_count": 4,
   "metadata": {},
   "outputs": [],
   "source": [
    "import numpy as np\n",
    "k = np.zeros(T)\n",
    "c = np.zeros(T)"
   ]
  },
  {
   "cell_type": "code",
   "execution_count": 5,
   "metadata": {},
   "outputs": [],
   "source": [
    "def new_capital(k, c):\n",
    "    return 0.185 * (k ** (1/3)) + (1 - delta)*k - c"
   ]
  },
  {
   "cell_type": "code",
   "execution_count": 6,
   "metadata": {},
   "outputs": [],
   "source": [
    "def new_consumption(k, c):\n",
    "    return beta *c*(1 - delta + (0.185 / (3*k**(2/3))))"
   ]
  },
  {
   "cell_type": "code",
   "execution_count": 7,
   "metadata": {},
   "outputs": [],
   "source": [
    "k_low = k_1\n",
    "k_up = new_capital(k_1, 0)\n",
    "k_guess = [k_low]\n",
    "ind = 0"
   ]
  },
  {
   "cell_type": "code",
   "execution_count": 8,
   "metadata": {},
   "outputs": [],
   "source": [
    "j = 1\n",
    "while True:\n",
    "    k_guess.append((k_low + k_up) / 2)\n",
    "    k[2] = k_guess[j] \n",
    "    c_1 = 0.185 * (k_1 ** (1/3)) + (1 - delta)*k_1 - k_guess[j]\n",
    "    c[1] = c_1\n",
    "    ind = 3\n",
    "    for i in range(3, T):\n",
    "        c_next = new_consumption(k[i-1], c[i-2])\n",
    "        c[i-1] = c_next\n",
    "        k_next = new_capital(k[i-1], c[i-1])\n",
    "        k[i] = k_next\n",
    "        if (k_next < k_1):\n",
    "            ind = 0\n",
    "            k_low = k[2]\n",
    "            break\n",
    "        if (k_next > k_steady):\n",
    "            ind = 1\n",
    "            k_up = k[2]\n",
    "            break\n",
    "    if (ind == 3):\n",
    "        break\n",
    "    if abs(k_guess[j] - k_guess[j-1]) < 10 ** (-15):\n",
    "        break\n",
    "    else:\n",
    "        j = j + 1"
   ]
  },
  {
   "cell_type": "code",
   "execution_count": 9,
   "metadata": {},
   "outputs": [],
   "source": [
    "k[2] = k_guess[len(k_guess) - 1] \n",
    "c_1 = 0.185 * (k_1 ** (1/3)) + (1 - delta)*k_1 - k_guess[len(k_guess) - 1]\n",
    "c[1] = c_1\n",
    "ind = 3\n",
    "for i in range(3, T):\n",
    "    c_next = new_consumption(k[i-1], c[i-2])\n",
    "    c[i-1] = c_next\n",
    "    k_next = max(new_capital(k[i-1], c[i-1]), k[i-1])\n",
    "    k[i] = k_next"
   ]
  },
  {
   "cell_type": "code",
   "execution_count": 10,
   "metadata": {},
   "outputs": [
    {
     "data": {
      "text/plain": [
       "Text(0,0.5,'k(t)')"
      ]
     },
     "execution_count": 10,
     "metadata": {},
     "output_type": "execute_result"
    },
    {
     "data": {
      "image/png": "[encoded data removed]",
      "text/plain": [
       "<Figure size 720x504 with 1 Axes>"
      ]
     },
     "metadata": {
      "needs_background": "light"
     },
     "output_type": "display_data"
    }
   ],
   "source": [
    "import matplotlib.pyplot as plt\n",
    "plt.rcParams['figure.figsize'] = [10, 7]\n",
    "plt.plot(k, 'bo')\n",
    "plt.xlabel('t')\n",
    "plt.ylabel('k(t)')"
   ]
  },
  {
   "cell_type": "code",
   "execution_count": 11,
   "metadata": {},
   "outputs": [
    {
     "data": {
      "text/plain": [
       "Text(0,0.5,'c(t)')"
      ]
     },
     "execution_count": 11,
     "metadata": {},
     "output_type": "execute_result"
    },
    {
     "data": {
      "image/png": "[encoded data removed]",
      "text/plain": [
       "<Figure size 720x504 with 1 Axes>"
      ]
     },
     "metadata": {
      "needs_background": "light"
     },
     "output_type": "display_data"
    }
   ],
   "source": [
    "plt.plot(c[:T-1], 'bo')\n",
    "plt.xlabel('t')\n",
    "plt.ylabel('c(t)')"
   ]
  },
  {
   "cell_type": "code",
   "execution_count": null,
   "metadata": {},
   "outputs": [],
   "source": []
  }
 ],
 "metadata": {
  "kernelspec": {
   "display_name": "Python 3",
   "language": "python",
   "name": "python3"
  },
  "language_info": {
   "codemirror_mode": {
    "name": "ipython",
    "version": 3
   },
   "file_extension": ".py",
   "mimetype": "text/x-python",
   "name": "python",
   "nbconvert_exporter": "python",
   "pygments_lexer": "ipython3",
   "version": "3.7.0"
  }
 },
 "nbformat": 4,
 "nbformat_minor": 2
}
