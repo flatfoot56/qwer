{
 "cells": [
  {
   "cell_type": "code",
   "execution_count": 20,
   "metadata": {},
   "outputs": [],
   "source": [
    "import matplotlib.pyplot as plt\n",
    "%matplotlib inline"
   ]
  },
  {
   "cell_type": "code",
   "execution_count": 21,
   "metadata": {},
   "outputs": [],
   "source": [
    "import numpy as np\n",
    "N = 100 #parameter responsible for number of points of grid\n",
    "delta = 0.02\n",
    "beta = 0.96\n",
    "v_0 = np.array([1 for i in range(0, N)])\n",
    "k = np.linspace(0.1, 1, N)"
   ]
  },
  {
   "cell_type": "code",
   "execution_count": 22,
   "metadata": {},
   "outputs": [],
   "source": [
    "import math\n",
    "def newV(k, k_p, v):\n",
    "    return math.log(0.185 * (k** (1/3)) + (1 - delta) * k - k_p) + beta*v \\\n",
    "    if (0.185 * (k** (1/3)) + (1 - delta) * k - k_p) > 0 else float(\"-inf\")"
   ]
  },
  {
   "cell_type": "code",
   "execution_count": 23,
   "metadata": {},
   "outputs": [],
   "source": [
    "newV = np.vectorize(newV)"
   ]
  },
  {
   "cell_type": "code",
   "execution_count": 24,
   "metadata": {},
   "outputs": [],
   "source": [
    "def max_of_value_function(capital):\n",
    "    g = newV(capital, k, v_0[0])\n",
    "    return np.array([max(g), np.argmax(g)])"
   ]
  },
  {
   "cell_type": "code",
   "execution_count": 25,
   "metadata": {},
   "outputs": [],
   "source": [
    "v = v_0\n",
    "while True:\n",
    "    v = v_0[0]\n",
    "    v_0 = np.array([[max_of_value_function(i)[0] for i in k], [max_of_value_function(i)[1] for i in k]])\n",
    "    if max(abs(v - v_0[0])) < 10 ** -9:\n",
    "        break"
   ]
  },
  {
   "cell_type": "code",
   "execution_count": 26,
   "metadata": {},
   "outputs": [],
   "source": [
    "f = v_0[1].astype(int)\n",
    "capital_path = [0.1]\n",
    "i = 0\n",
    "j = 0\n",
    "T = 220 #time horizon\n",
    "while j < T:\n",
    "    capital_path.append(k[f[i]])\n",
    "    i = f[i]\n",
    "    j = j+ 1"
   ]
  },
  {
   "cell_type": "code",
   "execution_count": 27,
   "metadata": {
    "scrolled": false
   },
   "outputs": [
    {
     "data": {
      "text/plain": [
       "<matplotlib.legend.Legend at 0x187c88608d0>"
      ]
     },
     "execution_count": 27,
     "metadata": {},
     "output_type": "execute_result"
    },
    {
     "data": {
      "image/png": "[encoded data removed]",
      "text/plain": [
       "<Figure size 720x504 with 1 Axes>"
      ]
     },
     "metadata": {
      "needs_background": "light"
     },
     "output_type": "display_data"
    }
   ],
   "source": [
    "plt.rcParams['figure.figsize'] = [10, 7]\n",
    "plt.plot(capital_path, 'bo', label='N = 100')\n",
    "plt.xlabel('t')\n",
    "plt.ylabel('k(t)')\n",
    "plt.legend()"
   ]
  },
  {
   "cell_type": "markdown",
   "metadata": {},
   "source": [
    "# Part below is about comparison with shooting algorithm"
   ]
  },
  {
   "cell_type": "markdown",
   "metadata": {},
   "source": [
    "Shooting algorithm, copied from the previous home assignment:"
   ]
  },
  {
   "cell_type": "code",
   "execution_count": 8,
   "metadata": {},
   "outputs": [],
   "source": [
    "k_1 = 0.1\n",
    "k_steady = 1\n",
    "T = 220\n",
    "delta = 0.02\n",
    "beta = 0.96"
   ]
  },
  {
   "cell_type": "code",
   "execution_count": 9,
   "metadata": {},
   "outputs": [],
   "source": [
    "import numpy as np\n",
    "k = np.zeros(T)\n",
    "c = np.zeros(T)"
   ]
  },
  {
   "cell_type": "code",
   "execution_count": 10,
   "metadata": {},
   "outputs": [],
   "source": [
    "def new_capital(k, c):\n",
    "    return 0.185 * (k ** (1/3)) + (1 - delta)*k - c"
   ]
  },
  {
   "cell_type": "code",
   "execution_count": 11,
   "metadata": {},
   "outputs": [],
   "source": [
    "def new_consumption(k, c):\n",
    "    return beta *c*(1 - delta + (0.185 / (3*k**(2/3))))"
   ]
  },
  {
   "cell_type": "code",
   "execution_count": 12,
   "metadata": {},
   "outputs": [],
   "source": [
    "k_low = k_1\n",
    "k_up = new_capital(k_1, 0)\n",
    "k_guess = [k_low]"
   ]
  },
  {
   "cell_type": "code",
   "execution_count": 13,
   "metadata": {},
   "outputs": [],
   "source": [
    "j = 1\n",
    "while True:\n",
    "    k_guess.append((k_low + k_up) / 2)\n",
    "    k[2] = k_guess[j] \n",
    "    c_1 = 0.185 * (k_1 ** (1/3)) + (1 - delta)*k_1 - k_guess[j]\n",
    "    c[1] = c_1\n",
    "    f = False\n",
    "    for i in range(3, T):\n",
    "        c_next = new_consumption(k[i-1], c[i-2])\n",
    "        c[i-1] = c_next\n",
    "        k_next = new_capital(k[i-1], c[i-1])\n",
    "        k[i] = k_next\n",
    "        if (k_next < k_1):\n",
    "            f = True\n",
    "            k_low = k[2]\n",
    "            break\n",
    "        if (k_next > k_steady):\n",
    "            f = True\n",
    "            k_up = k[2]\n",
    "            break\n",
    "    if (f == False):\n",
    "        break\n",
    "    if abs(k_guess[j] - k_guess[j-1]) < 10 ** (-15):\n",
    "        break\n",
    "    else:\n",
    "        j = j + 1"
   ]
  },
  {
   "cell_type": "code",
   "execution_count": 14,
   "metadata": {},
   "outputs": [],
   "source": [
    "k[2] = k_guess[len(k_guess) - 1] \n",
    "c_1 = 0.185 * (k_1 ** (1/3)) + (1 - delta)*k_1 - k_guess[len(k_guess) - 1]\n",
    "c[1] = c_1\n",
    "for i in range(3, T):\n",
    "    c_next = new_consumption(k[i-1], c[i-2])\n",
    "    c[i-1] = c_next\n",
    "    k_next = max(new_capital(k[i-1], c[i-1]), k[i-1])\n",
    "    k[i] = k_next"
   ]
  },
  {
   "cell_type": "markdown",
   "metadata": {},
   "source": [
    "Value function iteration VS shooting algorithm"
   ]
  },
  {
   "cell_type": "code",
   "execution_count": 19,
   "metadata": {},
   "outputs": [
    {
     "data": {
      "text/plain": [
       "<matplotlib.legend.Legend at 0x187c88fe898>"
      ]
     },
     "execution_count": 19,
     "metadata": {},
     "output_type": "execute_result"
    },
    {
     "data": {
      "image/png": "[encoded data removed]",
      "text/plain": [
       "<Figure size 720x504 with 1 Axes>"
      ]
     },
     "metadata": {
      "needs_background": "light"
     },
     "output_type": "display_data"
    }
   ],
   "source": [
    "import matplotlib.pyplot as plt\n",
    "plt.rcParams['figure.figsize'] = [10, 7]\n",
    "plt.plot(k, 'bo', label = 'Shooting')\n",
    "plt.plot(capital_path, 'ro', label = 'VFI, N = 100', marker=\">\")\n",
    "plt.xlabel('t')\n",
    "plt.ylabel('k(t)')\n",
    "plt.legend()"
   ]
  }
 ],
 "metadata": {
  "kernelspec": {
   "display_name": "Python 3",
   "language": "python",
   "name": "python3"
  },
  "language_info": {
   "codemirror_mode": {
    "name": "ipython",
    "version": 3
   },
   "file_extension": ".py",
   "mimetype": "text/x-python",
   "name": "python",
   "nbconvert_exporter": "python",
   "pygments_lexer": "ipython3",
   "version": "3.7.0"
  }
 },
 "nbformat": 4,
 "nbformat_minor": 2
}
